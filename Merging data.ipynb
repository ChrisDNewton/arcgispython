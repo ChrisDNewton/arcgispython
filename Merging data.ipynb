{
 "cells": [
  {
   "cell_type": "markdown",
   "metadata": {},
   "source": [
    "# Working with spatially enabled dataframes"
   ]
  },
  {
   "cell_type": "markdown",
   "metadata": {},
   "source": [
    "In this example, we're going to go through loading data as a spatially-enabled dataframe using the [Pandas](https://pandas.pydata.org/docs/) library. "
   ]
  },
  {
   "cell_type": "markdown",
   "metadata": {},
   "source": [
    "# Import libraries\n",
    "We'll import arcpy, arcgis.gis from the ArcGIS API for Python, and import Pandas with the alias pd as per convention."
   ]
  },
  {
   "cell_type": "code",
   "execution_count": 1,
   "metadata": {},
   "outputs": [],
   "source": [
    "import arcpy\n",
    "from arcgis.gis import GIS\n",
    "import pandas as pd"
   ]
  },
  {
   "cell_type": "markdown",
   "metadata": {},
   "source": [
    "# Joining a shapefile with a table from a csv file\n",
    "This example is an equivalent to the '[Join Field](https://pro.arcgis.com/en/pro-app/latest/tool-reference/data-management/join-field.htm)' geoprocessing tool. We'll read in a shapefile as a spatially-enabled dataframe, and read in a csv file as a regular Pandas dataframe, then join the two using the Pandas `.merge` function. \n",
    "\n",
    "First, we'll read in the shapefile and convert it to a spatially-enabled dataframe. Make sure you've downloaded and extracted the AHAH data for Bristol from https://data.cdrc.ac.uk/geodata-packs to the python_data folder in your project folder."
   ]
  },
  {
   "cell_type": "code",
   "execution_count": 2,
   "metadata": {},
   "outputs": [
    {
     "data": {
      "text/html": [
       "<div>\n",
       "<style scoped>\n",
       "    .dataframe tbody tr th:only-of-type {\n",
       "        vertical-align: middle;\n",
       "    }\n",
       "\n",
       "    .dataframe tbody tr th {\n",
       "        vertical-align: top;\n",
       "    }\n",
       "\n",
       "    .dataframe thead th {\n",
       "        text-align: right;\n",
       "    }\n",
       "</style>\n",
       "<table border=\"1\" class=\"dataframe\">\n",
       "  <thead>\n",
       "    <tr style=\"text-align: right;\">\n",
       "      <th></th>\n",
       "      <th>FID</th>\n",
       "      <th>lsoa11cd</th>\n",
       "      <th>SHAPE</th>\n",
       "    </tr>\n",
       "  </thead>\n",
       "  <tbody>\n",
       "    <tr>\n",
       "      <th>0</th>\n",
       "      <td>0</td>\n",
       "      <td>E01014485</td>\n",
       "      <td>{\"rings\": [[[360256.271, 174422.695], [360255,...</td>\n",
       "    </tr>\n",
       "    <tr>\n",
       "      <th>1</th>\n",
       "      <td>1</td>\n",
       "      <td>E01014486</td>\n",
       "      <td>{\"rings\": [[[359676.043, 174114.74], [359661.3...</td>\n",
       "    </tr>\n",
       "    <tr>\n",
       "      <th>2</th>\n",
       "      <td>2</td>\n",
       "      <td>E01014487</td>\n",
       "      <td>{\"rings\": [[[359036.633, 174653.14], [359035.2...</td>\n",
       "    </tr>\n",
       "    <tr>\n",
       "      <th>3</th>\n",
       "      <td>3</td>\n",
       "      <td>E01014488</td>\n",
       "      <td>{\"rings\": [[[359632.58, 174806.408], [359634.1...</td>\n",
       "    </tr>\n",
       "    <tr>\n",
       "      <th>4</th>\n",
       "      <td>4</td>\n",
       "      <td>E01014489</td>\n",
       "      <td>{\"rings\": [[[359120.567, 174097.45], [359120.3...</td>\n",
       "    </tr>\n",
       "  </tbody>\n",
       "</table>\n",
       "</div>"
      ],
      "text/plain": [
       "   FID   lsoa11cd                                              SHAPE\n",
       "0    0  E01014485  {\"rings\": [[[360256.271, 174422.695], [360255,...\n",
       "1    1  E01014486  {\"rings\": [[[359676.043, 174114.74], [359661.3...\n",
       "2    2  E01014487  {\"rings\": [[[359036.633, 174653.14], [359035.2...\n",
       "3    3  E01014488  {\"rings\": [[[359632.58, 174806.408], [359634.1...\n",
       "4    4  E01014489  {\"rings\": [[[359120.567, 174097.45], [359120.3..."
      ]
     },
     "execution_count": 2,
     "metadata": {},
     "output_type": "execute_result"
    }
   ],
   "source": [
    "# Replace the path with a relative path\n",
    "file = r\".\\python_data\\Access_to_Healthy_Assets_and_Hazards_AHAH\\Local_Authority_Districts\\E06000023\\shapefiles\\E06000023.shp\"\n",
    "LSOA = pd.DataFrame.spatial.from_featureclass(file)\n",
    "LSOA.head()"
   ]
  },
  {
   "cell_type": "markdown",
   "metadata": {},
   "source": [
    "Let's take a look at the number of rows and columns in the dataframe by using the pandas `.shape` function."
   ]
  },
  {
   "cell_type": "code",
   "execution_count": 3,
   "metadata": {},
   "outputs": [
    {
     "data": {
      "text/plain": [
       "(263, 3)"
      ]
     },
     "execution_count": 3,
     "metadata": {},
     "output_type": "execute_result"
    }
   ],
   "source": [
    "LSOA.shape"
   ]
  },
  {
   "cell_type": "markdown",
   "metadata": {},
   "source": [
    "Next, we'll read in a csv file as a 'regular' dataframe using `pd.read_csv()` and take a look at the first 5 rows with the Pandas `.head()` function."
   ]
  },
  {
   "cell_type": "code",
   "execution_count": 3,
   "metadata": {},
   "outputs": [
    {
     "data": {
      "text/html": [
       "<div>\n",
       "<style scoped>\n",
       "    .dataframe tbody tr th:only-of-type {\n",
       "        vertical-align: middle;\n",
       "    }\n",
       "\n",
       "    .dataframe tbody tr th {\n",
       "        vertical-align: top;\n",
       "    }\n",
       "\n",
       "    .dataframe thead th {\n",
       "        text-align: right;\n",
       "    }\n",
       "</style>\n",
       "<table border=\"1\" class=\"dataframe\">\n",
       "  <thead>\n",
       "    <tr style=\"text-align: right;\">\n",
       "      <th></th>\n",
       "      <th>lsoa11cd</th>\n",
       "      <th>lsoa11nm</th>\n",
       "      <th>r_rank</th>\n",
       "      <th>h_rank</th>\n",
       "      <th>g_rank</th>\n",
       "      <th>e_rank</th>\n",
       "      <th>r_exp</th>\n",
       "      <th>h_exp</th>\n",
       "      <th>g_exp</th>\n",
       "      <th>e_exp</th>\n",
       "      <th>ahah</th>\n",
       "      <th>r_ahah</th>\n",
       "      <th>d_ahah</th>\n",
       "      <th>r_dec</th>\n",
       "      <th>h_dec</th>\n",
       "      <th>g_dec</th>\n",
       "      <th>e_dec</th>\n",
       "      <th>gpp_dist</th>\n",
       "      <th>ed_dist</th>\n",
       "      <th>dent_dist</th>\n",
       "      <th>pharm_dist</th>\n",
       "      <th>gamb_dist</th>\n",
       "      <th>ffood_dist</th>\n",
       "      <th>pubs_dist</th>\n",
       "      <th>leis_dist</th>\n",
       "      <th>blue_dist</th>\n",
       "      <th>off_dist</th>\n",
       "      <th>tobac_dist</th>\n",
       "      <th>green_pas</th>\n",
       "      <th>green_act</th>\n",
       "      <th>ur</th>\n",
       "      <th>no2_mean</th>\n",
       "      <th>pm10_mean</th>\n",
       "      <th>so2_mean</th>\n",
       "      <th>d_gpp_dist</th>\n",
       "      <th>d_ed_dist</th>\n",
       "      <th>d_pharm_dist</th>\n",
       "      <th>d_dent_dist</th>\n",
       "      <th>d_gamb_dist</th>\n",
       "      <th>d_ffood_dist</th>\n",
       "      <th>d_pubs_dist</th>\n",
       "      <th>d_leis_dist</th>\n",
       "      <th>d_blue_dist</th>\n",
       "      <th>d_off_dist</th>\n",
       "      <th>d_tobac_dist</th>\n",
       "      <th>d_green_pas</th>\n",
       "      <th>d_green_act</th>\n",
       "      <th>d_no2_mean</th>\n",
       "      <th>d_pm10_mean</th>\n",
       "      <th>d_so2_mean</th>\n",
       "    </tr>\n",
       "  </thead>\n",
       "  <tbody>\n",
       "    <tr>\n",
       "      <th>0</th>\n",
       "      <td>E01014485</td>\n",
       "      <td>Bristol 023A</td>\n",
       "      <td>35286</td>\n",
       "      <td>7682</td>\n",
       "      <td>1724</td>\n",
       "      <td>28394</td>\n",
       "      <td>41.394453</td>\n",
       "      <td>4.612424</td>\n",
       "      <td>0.957596</td>\n",
       "      <td>25.613595</td>\n",
       "      <td>18.144517</td>\n",
       "      <td>15309</td>\n",
       "      <td>4</td>\n",
       "      <td>9</td>\n",
       "      <td>2</td>\n",
       "      <td>1</td>\n",
       "      <td>7</td>\n",
       "      <td>0.997593</td>\n",
       "      <td>2.736111</td>\n",
       "      <td>0.817963</td>\n",
       "      <td>1.057593</td>\n",
       "      <td>0.817963</td>\n",
       "      <td>0.277407</td>\n",
       "      <td>0.231852</td>\n",
       "      <td>0.396481</td>\n",
       "      <td>2.051667</td>\n",
       "      <td>2.027593</td>\n",
       "      <td>2.295185</td>\n",
       "      <td>1.299151</td>\n",
       "      <td>0.180</td>\n",
       "      <td>1</td>\n",
       "      <td>13.573317</td>\n",
       "      <td>13.376697</td>\n",
       "      <td>1.331312</td>\n",
       "      <td>5</td>\n",
       "      <td>2</td>\n",
       "      <td>7</td>\n",
       "      <td>4</td>\n",
       "      <td>7</td>\n",
       "      <td>10</td>\n",
       "      <td>10</td>\n",
       "      <td>1</td>\n",
       "      <td>5</td>\n",
       "      <td>6</td>\n",
       "      <td>6</td>\n",
       "      <td>1</td>\n",
       "      <td>1</td>\n",
       "      <td>8</td>\n",
       "      <td>6</td>\n",
       "      <td>8</td>\n",
       "    </tr>\n",
       "    <tr>\n",
       "      <th>1</th>\n",
       "      <td>E01014486</td>\n",
       "      <td>Bristol 023B</td>\n",
       "      <td>34993</td>\n",
       "      <td>5387</td>\n",
       "      <td>4195</td>\n",
       "      <td>28476</td>\n",
       "      <td>40.449998</td>\n",
       "      <td>3.135055</td>\n",
       "      <td>2.403604</td>\n",
       "      <td>25.749859</td>\n",
       "      <td>17.934629</td>\n",
       "      <td>14817</td>\n",
       "      <td>4</td>\n",
       "      <td>9</td>\n",
       "      <td>2</td>\n",
       "      <td>2</td>\n",
       "      <td>7</td>\n",
       "      <td>0.858382</td>\n",
       "      <td>2.110882</td>\n",
       "      <td>0.568676</td>\n",
       "      <td>0.853235</td>\n",
       "      <td>0.568676</td>\n",
       "      <td>0.352500</td>\n",
       "      <td>0.396029</td>\n",
       "      <td>0.545147</td>\n",
       "      <td>2.272500</td>\n",
       "      <td>1.798235</td>\n",
       "      <td>1.871618</td>\n",
       "      <td>0.289311</td>\n",
       "      <td>0.120</td>\n",
       "      <td>1</td>\n",
       "      <td>13.982219</td>\n",
       "      <td>13.297512</td>\n",
       "      <td>1.307590</td>\n",
       "      <td>4</td>\n",
       "      <td>1</td>\n",
       "      <td>5</td>\n",
       "      <td>2</td>\n",
       "      <td>9</td>\n",
       "      <td>9</td>\n",
       "      <td>9</td>\n",
       "      <td>1</td>\n",
       "      <td>6</td>\n",
       "      <td>7</td>\n",
       "      <td>7</td>\n",
       "      <td>5</td>\n",
       "      <td>1</td>\n",
       "      <td>8</td>\n",
       "      <td>6</td>\n",
       "      <td>7</td>\n",
       "    </tr>\n",
       "    <tr>\n",
       "      <th>2</th>\n",
       "      <td>E01014487</td>\n",
       "      <td>Bristol 020A</td>\n",
       "      <td>36285</td>\n",
       "      <td>6117</td>\n",
       "      <td>19801</td>\n",
       "      <td>27722</td>\n",
       "      <td>44.941656</td>\n",
       "      <td>3.594770</td>\n",
       "      <td>14.531847</td>\n",
       "      <td>24.526307</td>\n",
       "      <td>21.898645</td>\n",
       "      <td>23835</td>\n",
       "      <td>6</td>\n",
       "      <td>9</td>\n",
       "      <td>2</td>\n",
       "      <td>5</td>\n",
       "      <td>7</td>\n",
       "      <td>0.814828</td>\n",
       "      <td>1.715172</td>\n",
       "      <td>0.773448</td>\n",
       "      <td>0.713448</td>\n",
       "      <td>0.627931</td>\n",
       "      <td>0.540345</td>\n",
       "      <td>0.560345</td>\n",
       "      <td>0.829655</td>\n",
       "      <td>2.879655</td>\n",
       "      <td>0.800690</td>\n",
       "      <td>0.860345</td>\n",
       "      <td>0.194665</td>\n",
       "      <td>0.290</td>\n",
       "      <td>1</td>\n",
       "      <td>13.530668</td>\n",
       "      <td>13.257475</td>\n",
       "      <td>1.307112</td>\n",
       "      <td>4</td>\n",
       "      <td>1</td>\n",
       "      <td>4</td>\n",
       "      <td>4</td>\n",
       "      <td>8</td>\n",
       "      <td>8</td>\n",
       "      <td>8</td>\n",
       "      <td>2</td>\n",
       "      <td>7</td>\n",
       "      <td>9</td>\n",
       "      <td>10</td>\n",
       "      <td>6</td>\n",
       "      <td>2</td>\n",
       "      <td>8</td>\n",
       "      <td>6</td>\n",
       "      <td>7</td>\n",
       "    </tr>\n",
       "    <tr>\n",
       "      <th>3</th>\n",
       "      <td>E01014488</td>\n",
       "      <td>Bristol 023C</td>\n",
       "      <td>35462</td>\n",
       "      <td>5694</td>\n",
       "      <td>18682</td>\n",
       "      <td>28449</td>\n",
       "      <td>41.980996</td>\n",
       "      <td>3.327268</td>\n",
       "      <td>13.414295</td>\n",
       "      <td>25.704902</td>\n",
       "      <td>21.106865</td>\n",
       "      <td>22175</td>\n",
       "      <td>6</td>\n",
       "      <td>9</td>\n",
       "      <td>2</td>\n",
       "      <td>5</td>\n",
       "      <td>7</td>\n",
       "      <td>0.854318</td>\n",
       "      <td>1.611818</td>\n",
       "      <td>0.606364</td>\n",
       "      <td>0.884773</td>\n",
       "      <td>0.564545</td>\n",
       "      <td>0.494545</td>\n",
       "      <td>0.351136</td>\n",
       "      <td>0.705455</td>\n",
       "      <td>2.723864</td>\n",
       "      <td>1.461591</td>\n",
       "      <td>1.530682</td>\n",
       "      <td>0.203573</td>\n",
       "      <td>0.285</td>\n",
       "      <td>1</td>\n",
       "      <td>13.666415</td>\n",
       "      <td>13.360288</td>\n",
       "      <td>1.326760</td>\n",
       "      <td>4</td>\n",
       "      <td>1</td>\n",
       "      <td>6</td>\n",
       "      <td>2</td>\n",
       "      <td>9</td>\n",
       "      <td>9</td>\n",
       "      <td>10</td>\n",
       "      <td>1</td>\n",
       "      <td>7</td>\n",
       "      <td>7</td>\n",
       "      <td>8</td>\n",
       "      <td>6</td>\n",
       "      <td>2</td>\n",
       "      <td>8</td>\n",
       "      <td>6</td>\n",
       "      <td>8</td>\n",
       "    </tr>\n",
       "    <tr>\n",
       "      <th>4</th>\n",
       "      <td>E01014489</td>\n",
       "      <td>Bristol 023D</td>\n",
       "      <td>39888</td>\n",
       "      <td>654</td>\n",
       "      <td>9202</td>\n",
       "      <td>28602</td>\n",
       "      <td>66.098068</td>\n",
       "      <td>0.358587</td>\n",
       "      <td>5.645883</td>\n",
       "      <td>25.960826</td>\n",
       "      <td>24.515841</td>\n",
       "      <td>28788</td>\n",
       "      <td>7</td>\n",
       "      <td>10</td>\n",
       "      <td>1</td>\n",
       "      <td>3</td>\n",
       "      <td>7</td>\n",
       "      <td>0.385532</td>\n",
       "      <td>1.004894</td>\n",
       "      <td>0.632553</td>\n",
       "      <td>0.431489</td>\n",
       "      <td>0.571064</td>\n",
       "      <td>0.205532</td>\n",
       "      <td>0.149362</td>\n",
       "      <td>0.337021</td>\n",
       "      <td>1.901489</td>\n",
       "      <td>0.987021</td>\n",
       "      <td>1.026383</td>\n",
       "      <td>0.198259</td>\n",
       "      <td>0.200</td>\n",
       "      <td>1</td>\n",
       "      <td>14.008808</td>\n",
       "      <td>13.316356</td>\n",
       "      <td>1.312781</td>\n",
       "      <td>1</td>\n",
       "      <td>1</td>\n",
       "      <td>2</td>\n",
       "      <td>3</td>\n",
       "      <td>9</td>\n",
       "      <td>10</td>\n",
       "      <td>10</td>\n",
       "      <td>1</td>\n",
       "      <td>5</td>\n",
       "      <td>9</td>\n",
       "      <td>9</td>\n",
       "      <td>6</td>\n",
       "      <td>1</td>\n",
       "      <td>8</td>\n",
       "      <td>6</td>\n",
       "      <td>7</td>\n",
       "    </tr>\n",
       "  </tbody>\n",
       "</table>\n",
       "</div>"
      ],
      "text/plain": [
       "    lsoa11cd      lsoa11nm  r_rank  ...  d_no2_mean  d_pm10_mean  d_so2_mean\n",
       "0  E01014485  Bristol 023A   35286  ...           8            6           8\n",
       "1  E01014486  Bristol 023B   34993  ...           8            6           7\n",
       "2  E01014487  Bristol 020A   36285  ...           8            6           7\n",
       "3  E01014488  Bristol 023C   35462  ...           8            6           8\n",
       "4  E01014489  Bristol 023D   39888  ...           8            6           7\n",
       "\n",
       "[5 rows x 50 columns]"
      ]
     },
     "execution_count": 3,
     "metadata": {},
     "output_type": "execute_result"
    }
   ],
   "source": [
    "df = pd.read_csv(r\"python_data\\Access_to_Healthy_Assets_and_Hazards_AHAH\\Local_Authority_Districts\\E06000023\\tables\\E06000023.csv\")\n",
    "df.head()"
   ]
  },
  {
   "cell_type": "markdown",
   "metadata": {},
   "source": [
    "Let's check the shape of this dataframe too."
   ]
  },
  {
   "cell_type": "code",
   "execution_count": 5,
   "metadata": {},
   "outputs": [
    {
     "data": {
      "text/plain": [
       "(263, 50)"
      ]
     },
     "execution_count": 5,
     "metadata": {},
     "output_type": "execute_result"
    }
   ],
   "source": [
    "df.shape"
   ]
  },
  {
   "cell_type": "markdown",
   "metadata": {},
   "source": [
    "We've got the same number of rows in this data table (one for each LSOA), but there are 50 columns. While we could merge all of these columns with our shapefile, it's tidier to just merge in the columns we want. To do this, we'll create a new subset dataframe called 'join_data' containing just the field we're going to join on (the LSOA code, `'lsoa11cd'`) and our variables of interest - in this example, `'no2_mean'`, `'pm10_mean'`, and `'so2_mean'`."
   ]
  },
  {
   "cell_type": "code",
   "execution_count": 6,
   "metadata": {},
   "outputs": [
    {
     "data": {
      "text/html": [
       "<div>\n",
       "<style scoped>\n",
       "    .dataframe tbody tr th:only-of-type {\n",
       "        vertical-align: middle;\n",
       "    }\n",
       "\n",
       "    .dataframe tbody tr th {\n",
       "        vertical-align: top;\n",
       "    }\n",
       "\n",
       "    .dataframe thead th {\n",
       "        text-align: right;\n",
       "    }\n",
       "</style>\n",
       "<table border=\"1\" class=\"dataframe\">\n",
       "  <thead>\n",
       "    <tr style=\"text-align: right;\">\n",
       "      <th></th>\n",
       "      <th>lsoa11cd</th>\n",
       "      <th>no2_mean</th>\n",
       "      <th>pm10_mean</th>\n",
       "      <th>so2_mean</th>\n",
       "    </tr>\n",
       "  </thead>\n",
       "  <tbody>\n",
       "    <tr>\n",
       "      <th>0</th>\n",
       "      <td>E01014485</td>\n",
       "      <td>13.573317</td>\n",
       "      <td>13.376697</td>\n",
       "      <td>1.331312</td>\n",
       "    </tr>\n",
       "    <tr>\n",
       "      <th>1</th>\n",
       "      <td>E01014486</td>\n",
       "      <td>13.982219</td>\n",
       "      <td>13.297512</td>\n",
       "      <td>1.307590</td>\n",
       "    </tr>\n",
       "    <tr>\n",
       "      <th>2</th>\n",
       "      <td>E01014487</td>\n",
       "      <td>13.530668</td>\n",
       "      <td>13.257475</td>\n",
       "      <td>1.307112</td>\n",
       "    </tr>\n",
       "    <tr>\n",
       "      <th>3</th>\n",
       "      <td>E01014488</td>\n",
       "      <td>13.666415</td>\n",
       "      <td>13.360288</td>\n",
       "      <td>1.326760</td>\n",
       "    </tr>\n",
       "    <tr>\n",
       "      <th>4</th>\n",
       "      <td>E01014489</td>\n",
       "      <td>14.008808</td>\n",
       "      <td>13.316356</td>\n",
       "      <td>1.312781</td>\n",
       "    </tr>\n",
       "  </tbody>\n",
       "</table>\n",
       "</div>"
      ],
      "text/plain": [
       "    lsoa11cd   no2_mean  pm10_mean  so2_mean\n",
       "0  E01014485  13.573317  13.376697  1.331312\n",
       "1  E01014486  13.982219  13.297512  1.307590\n",
       "2  E01014487  13.530668  13.257475  1.307112\n",
       "3  E01014488  13.666415  13.360288  1.326760\n",
       "4  E01014489  14.008808  13.316356  1.312781"
      ]
     },
     "execution_count": 6,
     "metadata": {},
     "output_type": "execute_result"
    }
   ],
   "source": [
    "join_data = df[['lsoa11cd', 'no2_mean', 'pm10_mean', 'so2_mean']]\n",
    "join_data.head()"
   ]
  },
  {
   "cell_type": "markdown",
   "metadata": {},
   "source": [
    "We can now join the two data sources based on the `lsoa11cd` field using Pandas `.merge()` function."
   ]
  },
  {
   "cell_type": "code",
   "execution_count": 7,
   "metadata": {},
   "outputs": [
    {
     "data": {
      "text/html": [
       "<div>\n",
       "<style scoped>\n",
       "    .dataframe tbody tr th:only-of-type {\n",
       "        vertical-align: middle;\n",
       "    }\n",
       "\n",
       "    .dataframe tbody tr th {\n",
       "        vertical-align: top;\n",
       "    }\n",
       "\n",
       "    .dataframe thead th {\n",
       "        text-align: right;\n",
       "    }\n",
       "</style>\n",
       "<table border=\"1\" class=\"dataframe\">\n",
       "  <thead>\n",
       "    <tr style=\"text-align: right;\">\n",
       "      <th></th>\n",
       "      <th>FID</th>\n",
       "      <th>lsoa11cd</th>\n",
       "      <th>SHAPE</th>\n",
       "      <th>no2_mean</th>\n",
       "      <th>pm10_mean</th>\n",
       "      <th>so2_mean</th>\n",
       "    </tr>\n",
       "  </thead>\n",
       "  <tbody>\n",
       "    <tr>\n",
       "      <th>0</th>\n",
       "      <td>0</td>\n",
       "      <td>E01014485</td>\n",
       "      <td>{'rings': [[[360256.271, 174422.695], [360255,...</td>\n",
       "      <td>13.573317</td>\n",
       "      <td>13.376697</td>\n",
       "      <td>1.331312</td>\n",
       "    </tr>\n",
       "    <tr>\n",
       "      <th>1</th>\n",
       "      <td>1</td>\n",
       "      <td>E01014486</td>\n",
       "      <td>{'rings': [[[359676.043, 174114.74], [359661.3...</td>\n",
       "      <td>13.982219</td>\n",
       "      <td>13.297512</td>\n",
       "      <td>1.307590</td>\n",
       "    </tr>\n",
       "    <tr>\n",
       "      <th>2</th>\n",
       "      <td>2</td>\n",
       "      <td>E01014487</td>\n",
       "      <td>{'rings': [[[359036.633, 174653.14], [359035.2...</td>\n",
       "      <td>13.530668</td>\n",
       "      <td>13.257475</td>\n",
       "      <td>1.307112</td>\n",
       "    </tr>\n",
       "    <tr>\n",
       "      <th>3</th>\n",
       "      <td>3</td>\n",
       "      <td>E01014488</td>\n",
       "      <td>{'rings': [[[359632.58, 174806.408], [359634.1...</td>\n",
       "      <td>13.666415</td>\n",
       "      <td>13.360288</td>\n",
       "      <td>1.326760</td>\n",
       "    </tr>\n",
       "    <tr>\n",
       "      <th>4</th>\n",
       "      <td>4</td>\n",
       "      <td>E01014489</td>\n",
       "      <td>{'rings': [[[359120.567, 174097.45], [359120.3...</td>\n",
       "      <td>14.008808</td>\n",
       "      <td>13.316356</td>\n",
       "      <td>1.312781</td>\n",
       "    </tr>\n",
       "  </tbody>\n",
       "</table>\n",
       "</div>"
      ],
      "text/plain": [
       "   FID   lsoa11cd  ...  pm10_mean  so2_mean\n",
       "0    0  E01014485  ...  13.376697  1.331312\n",
       "1    1  E01014486  ...  13.297512  1.307590\n",
       "2    2  E01014487  ...  13.257475  1.307112\n",
       "3    3  E01014488  ...  13.360288  1.326760\n",
       "4    4  E01014489  ...  13.316356  1.312781\n",
       "\n",
       "[5 rows x 6 columns]"
      ]
     },
     "execution_count": 7,
     "metadata": {},
     "output_type": "execute_result"
    }
   ],
   "source": [
    "join_df = LSOA.merge(join_data, on=\"lsoa11cd\", how='left')\n",
    "join_df.head()"
   ]
  },
  {
   "cell_type": "markdown",
   "metadata": {},
   "source": [
    "We can now save our new spatially enabled dataframe to our project geodatabase as a new feature class."
   ]
  },
  {
   "cell_type": "code",
   "execution_count": 8,
   "metadata": {},
   "outputs": [
    {
     "data": {
      "text/plain": [
       "'C:\\\\EsriTraining\\\\VisualPythonAPI\\\\VisualPythonAPI\\\\Dataviz_ArcGIS_API_for_Python.gdb\\\\AHAH_AQ_Bristol'"
      ]
     },
     "execution_count": 8,
     "metadata": {},
     "output_type": "execute_result"
    }
   ],
   "source": [
    "# TODO: Update the name of the geodatabase as required.\n",
    "join_df.copy().spatial.to_featureclass(location=r\".\\Dataviz_ArcGIS_API_for_Python.gdb\\AHAH_AQ_Bristol\")"
   ]
  },
  {
   "cell_type": "code",
   "execution_count": 10,
   "metadata": {},
   "outputs": [],
   "source": [
    "join_df.copy().spatial.to_featureclass(location=r\".\\Dataviz_ArcGIS_API_for_Python.gdb\\AHAH_AQ_Bristol\")"
   ]
  },
  {
   "cell_type": "code",
   "execution_count": 15,
   "metadata": {},
   "outputs": [
    {
     "data": {
      "text/html": [
       "<h2>Output</h2>C:\\EsriTraining\\VisualPythonAPI\\VisualPythonAPI\\Dataviz_ArcGIS_API_for_Python.gdb<h2>Messages</h2>Start Time: 12 April 2022 14:51:26<br/>Succeeded at 12 April 2022 14:51:27 (Elapsed Time: 1.14 seconds)<br/><style>.rendered_html td, .rendered_html th {text-align: left;}.rendered_html tbody {border: 1px solid black;}</style>"
      ],
      "text/plain": [
       "<Result 'C:\\\\EsriTraining\\\\VisualPythonAPI\\\\VisualPythonAPI\\\\Dataviz_ArcGIS_API_for_Python.gdb'>"
      ]
     },
     "execution_count": 15,
     "metadata": {},
     "output_type": "execute_result"
    }
   ],
   "source": [
    "# removes locks on database after writing files. TODO: Look for alternate methods, and root cause of lock.\n",
    "arcpy.management.Compact(r\"C:\\EsriTraining\\VisualPythonAPI\\VisualPythonAPI\\Dataviz_ArcGIS_API_for_Python.gdb\")"
   ]
  },
  {
   "cell_type": "code",
   "execution_count": 12,
   "metadata": {},
   "outputs": [
    {
     "data": {
      "text/plain": [
       "'C:\\\\EsriTraining\\\\VisualPythonAPI\\\\VisualPythonAPI\\\\Dataviz_ArcGIS_API_for_Python.gdb\\\\AHAH_NonCopyTest'"
      ]
     },
     "execution_count": 12,
     "metadata": {},
     "output_type": "execute_result"
    }
   ],
   "source": [
    "# Update the name of the geodatabase as required.\n",
    "join_df.spatial.to_featureclass(location=r\".\\Dataviz_ArcGIS_API_for_Python.gdb\\AHAH_NonCopyTest\")"
   ]
  },
  {
   "cell_type": "markdown",
   "metadata": {},
   "source": [
    " We can also export the spatially enabled dataframe as a shapefile if we save it outside a geodatabase and specify the extension '.shp'."
   ]
  },
  {
   "cell_type": "code",
   "execution_count": 16,
   "metadata": {},
   "outputs": [
    {
     "data": {
      "text/plain": [
       "'C:\\\\EsriTraining\\\\VisualPythonAPI\\\\VisualPythonAPI\\\\python_data\\\\AHAH_Bristol.shp'"
      ]
     },
     "execution_count": 16,
     "metadata": {},
     "output_type": "execute_result"
    }
   ],
   "source": [
    "# Export to shapefile:\n",
    "join_df.spatial.to_featureclass(location=r\".\\python_data\\AHAH_Bristol.shp\")"
   ]
  },
  {
   "cell_type": "markdown",
   "metadata": {},
   "source": [
    "## Reading in point data from a csv file"
   ]
  },
  {
   "cell_type": "markdown",
   "metadata": {},
   "source": [
    "We can read in a table of points with an X and Y column as a spatially enabled dataframe by loading it as a 'regular' pandas dataframe, then passing it to the `pd.DataFrame.spatial.from_xy()` function."
   ]
  },
  {
   "cell_type": "code",
   "execution_count": 2,
   "metadata": {},
   "outputs": [
    {
     "name": "stderr",
     "output_type": "stream",
     "text": [
      "sys:1: DtypeWarning: Columns (0,2) have mixed types.Specify dtype option on import or set low_memory=False.\n"
     ]
    },
    {
     "data": {
      "text/html": [
       "<div>\n",
       "<style scoped>\n",
       "    .dataframe tbody tr th:only-of-type {\n",
       "        vertical-align: middle;\n",
       "    }\n",
       "\n",
       "    .dataframe tbody tr th {\n",
       "        vertical-align: top;\n",
       "    }\n",
       "\n",
       "    .dataframe thead th {\n",
       "        text-align: right;\n",
       "    }\n",
       "</style>\n",
       "<table border=\"1\" class=\"dataframe\">\n",
       "  <thead>\n",
       "    <tr style=\"text-align: right;\">\n",
       "      <th></th>\n",
       "      <th>accident_index</th>\n",
       "      <th>accident_year</th>\n",
       "      <th>accident_reference</th>\n",
       "      <th>location_easting_osgr</th>\n",
       "      <th>location_northing_osgr</th>\n",
       "      <th>longitude</th>\n",
       "      <th>latitude</th>\n",
       "      <th>police_force</th>\n",
       "      <th>accident_severity</th>\n",
       "      <th>number_of_vehicles</th>\n",
       "      <th>number_of_casualties</th>\n",
       "      <th>date</th>\n",
       "      <th>day_of_week</th>\n",
       "      <th>time</th>\n",
       "      <th>local_authority_district</th>\n",
       "      <th>local_authority_ons_district</th>\n",
       "      <th>local_authority_highway</th>\n",
       "      <th>first_road_class</th>\n",
       "      <th>first_road_number</th>\n",
       "      <th>road_type</th>\n",
       "      <th>speed_limit</th>\n",
       "      <th>junction_detail</th>\n",
       "      <th>junction_control</th>\n",
       "      <th>second_road_class</th>\n",
       "      <th>second_road_number</th>\n",
       "      <th>pedestrian_crossing_human_control</th>\n",
       "      <th>pedestrian_crossing_physical_facilities</th>\n",
       "      <th>light_conditions</th>\n",
       "      <th>weather_conditions</th>\n",
       "      <th>road_surface_conditions</th>\n",
       "      <th>special_conditions_at_site</th>\n",
       "      <th>carriageway_hazards</th>\n",
       "      <th>urban_or_rural_area</th>\n",
       "      <th>did_police_officer_attend_scene_of_accident</th>\n",
       "      <th>trunk_road_flag</th>\n",
       "      <th>lsoa_of_accident_location</th>\n",
       "      <th>SHAPE</th>\n",
       "    </tr>\n",
       "  </thead>\n",
       "  <tbody>\n",
       "    <tr>\n",
       "      <th>0</th>\n",
       "      <td>2020010219808</td>\n",
       "      <td>2020</td>\n",
       "      <td>10219808</td>\n",
       "      <td>521389.0</td>\n",
       "      <td>175144.0</td>\n",
       "      <td>-0.254001</td>\n",
       "      <td>51.462262</td>\n",
       "      <td>1</td>\n",
       "      <td>3</td>\n",
       "      <td>1</td>\n",
       "      <td>1</td>\n",
       "      <td>04/02/2020</td>\n",
       "      <td>3</td>\n",
       "      <td>09:00</td>\n",
       "      <td>10</td>\n",
       "      <td>E09000032</td>\n",
       "      <td>E09000032</td>\n",
       "      <td>6</td>\n",
       "      <td>0</td>\n",
       "      <td>6</td>\n",
       "      <td>20</td>\n",
       "      <td>0</td>\n",
       "      <td>-1</td>\n",
       "      <td>0</td>\n",
       "      <td>-1</td>\n",
       "      <td>9</td>\n",
       "      <td>9</td>\n",
       "      <td>1</td>\n",
       "      <td>9</td>\n",
       "      <td>9</td>\n",
       "      <td>0</td>\n",
       "      <td>0</td>\n",
       "      <td>1</td>\n",
       "      <td>3</td>\n",
       "      <td>2</td>\n",
       "      <td>E01004576</td>\n",
       "      <td>{\"spatialReference\": {\"wkid\": 4326}, \"x\": -0.2...</td>\n",
       "    </tr>\n",
       "    <tr>\n",
       "      <th>1</th>\n",
       "      <td>2020010220496</td>\n",
       "      <td>2020</td>\n",
       "      <td>10220496</td>\n",
       "      <td>529337.0</td>\n",
       "      <td>176237.0</td>\n",
       "      <td>-0.139253</td>\n",
       "      <td>51.470327</td>\n",
       "      <td>1</td>\n",
       "      <td>3</td>\n",
       "      <td>1</td>\n",
       "      <td>2</td>\n",
       "      <td>27/04/2020</td>\n",
       "      <td>2</td>\n",
       "      <td>13:55</td>\n",
       "      <td>9</td>\n",
       "      <td>E09000022</td>\n",
       "      <td>E09000022</td>\n",
       "      <td>3</td>\n",
       "      <td>3036</td>\n",
       "      <td>6</td>\n",
       "      <td>20</td>\n",
       "      <td>9</td>\n",
       "      <td>2</td>\n",
       "      <td>6</td>\n",
       "      <td>0</td>\n",
       "      <td>0</td>\n",
       "      <td>4</td>\n",
       "      <td>1</td>\n",
       "      <td>1</td>\n",
       "      <td>1</td>\n",
       "      <td>0</td>\n",
       "      <td>0</td>\n",
       "      <td>1</td>\n",
       "      <td>1</td>\n",
       "      <td>2</td>\n",
       "      <td>E01003034</td>\n",
       "      <td>{\"spatialReference\": {\"wkid\": 4326}, \"x\": -0.1...</td>\n",
       "    </tr>\n",
       "    <tr>\n",
       "      <th>2</th>\n",
       "      <td>2020010228005</td>\n",
       "      <td>2020</td>\n",
       "      <td>10228005</td>\n",
       "      <td>526432.0</td>\n",
       "      <td>182761.0</td>\n",
       "      <td>-0.178719</td>\n",
       "      <td>51.529614</td>\n",
       "      <td>1</td>\n",
       "      <td>3</td>\n",
       "      <td>1</td>\n",
       "      <td>1</td>\n",
       "      <td>01/01/2020</td>\n",
       "      <td>4</td>\n",
       "      <td>01:25</td>\n",
       "      <td>1</td>\n",
       "      <td>E09000033</td>\n",
       "      <td>E09000033</td>\n",
       "      <td>5</td>\n",
       "      <td>0</td>\n",
       "      <td>6</td>\n",
       "      <td>30</td>\n",
       "      <td>3</td>\n",
       "      <td>1</td>\n",
       "      <td>6</td>\n",
       "      <td>0</td>\n",
       "      <td>0</td>\n",
       "      <td>0</td>\n",
       "      <td>4</td>\n",
       "      <td>1</td>\n",
       "      <td>2</td>\n",
       "      <td>0</td>\n",
       "      <td>0</td>\n",
       "      <td>1</td>\n",
       "      <td>1</td>\n",
       "      <td>2</td>\n",
       "      <td>E01004726</td>\n",
       "      <td>{\"spatialReference\": {\"wkid\": 4326}, \"x\": -0.1...</td>\n",
       "    </tr>\n",
       "    <tr>\n",
       "      <th>3</th>\n",
       "      <td>2020010228006</td>\n",
       "      <td>2020</td>\n",
       "      <td>10228006</td>\n",
       "      <td>538676.0</td>\n",
       "      <td>184371.0</td>\n",
       "      <td>-0.001683</td>\n",
       "      <td>51.541210</td>\n",
       "      <td>1</td>\n",
       "      <td>2</td>\n",
       "      <td>1</td>\n",
       "      <td>1</td>\n",
       "      <td>01/01/2020</td>\n",
       "      <td>4</td>\n",
       "      <td>01:50</td>\n",
       "      <td>17</td>\n",
       "      <td>E09000025</td>\n",
       "      <td>E09000025</td>\n",
       "      <td>3</td>\n",
       "      <td>11</td>\n",
       "      <td>6</td>\n",
       "      <td>30</td>\n",
       "      <td>0</td>\n",
       "      <td>-1</td>\n",
       "      <td>0</td>\n",
       "      <td>-1</td>\n",
       "      <td>0</td>\n",
       "      <td>4</td>\n",
       "      <td>4</td>\n",
       "      <td>1</td>\n",
       "      <td>1</td>\n",
       "      <td>0</td>\n",
       "      <td>0</td>\n",
       "      <td>1</td>\n",
       "      <td>1</td>\n",
       "      <td>2</td>\n",
       "      <td>E01003617</td>\n",
       "      <td>{\"spatialReference\": {\"wkid\": 4326}, \"x\": -0.0...</td>\n",
       "    </tr>\n",
       "    <tr>\n",
       "      <th>4</th>\n",
       "      <td>2020010228011</td>\n",
       "      <td>2020</td>\n",
       "      <td>10228011</td>\n",
       "      <td>529324.0</td>\n",
       "      <td>181286.0</td>\n",
       "      <td>-0.137592</td>\n",
       "      <td>51.515704</td>\n",
       "      <td>1</td>\n",
       "      <td>3</td>\n",
       "      <td>1</td>\n",
       "      <td>2</td>\n",
       "      <td>01/01/2020</td>\n",
       "      <td>4</td>\n",
       "      <td>02:25</td>\n",
       "      <td>1</td>\n",
       "      <td>E09000033</td>\n",
       "      <td>E09000033</td>\n",
       "      <td>3</td>\n",
       "      <td>40</td>\n",
       "      <td>6</td>\n",
       "      <td>30</td>\n",
       "      <td>3</td>\n",
       "      <td>4</td>\n",
       "      <td>5</td>\n",
       "      <td>0</td>\n",
       "      <td>0</td>\n",
       "      <td>0</td>\n",
       "      <td>4</td>\n",
       "      <td>1</td>\n",
       "      <td>1</td>\n",
       "      <td>0</td>\n",
       "      <td>0</td>\n",
       "      <td>1</td>\n",
       "      <td>1</td>\n",
       "      <td>2</td>\n",
       "      <td>E01004763</td>\n",
       "      <td>{\"spatialReference\": {\"wkid\": 4326}, \"x\": -0.1...</td>\n",
       "    </tr>\n",
       "  </tbody>\n",
       "</table>\n",
       "</div>"
      ],
      "text/plain": [
       "  accident_index  ...                                              SHAPE\n",
       "0  2020010219808  ...  {\"spatialReference\": {\"wkid\": 4326}, \"x\": -0.2...\n",
       "1  2020010220496  ...  {\"spatialReference\": {\"wkid\": 4326}, \"x\": -0.1...\n",
       "2  2020010228005  ...  {\"spatialReference\": {\"wkid\": 4326}, \"x\": -0.1...\n",
       "3  2020010228006  ...  {\"spatialReference\": {\"wkid\": 4326}, \"x\": -0.0...\n",
       "4  2020010228011  ...  {\"spatialReference\": {\"wkid\": 4326}, \"x\": -0.1...\n",
       "\n",
       "[5 rows x 37 columns]"
      ]
     },
     "execution_count": 2,
     "metadata": {},
     "output_type": "execute_result"
    }
   ],
   "source": [
    "df = pd.read_csv(r'.\\dft-road-casualty-statistics-accident-2020.csv') # for example\n",
    "sedf = pd.DataFrame.spatial.from_xy(df,'longitude','latitude') # specify cols for X and Y\n",
    "sedf.head()"
   ]
  },
  {
   "cell_type": "markdown",
   "metadata": {},
   "source": [
    "We can subset a Pandas dataframe using the Pandas `.query()` function. An example could be:\n",
    "\n",
    "`subset_dataframe = dataframe.query('field_name == \"something_in_field_name\"')`\n",
    "\n",
    "or \n",
    "\n",
    "`subset_dataframe = dataframe.query('field_name <= 70')`\n",
    "\n",
    "Remember to use the equality operator (`==`), not the assignment operator (`=`)."
   ]
  },
  {
   "cell_type": "code",
   "execution_count": 43,
   "metadata": {},
   "outputs": [],
   "source": [
    "sedf2 = sedf.query('lsoa_of_accident_location == \"E01033355\"')"
   ]
  },
  {
   "cell_type": "code",
   "execution_count": 47,
   "metadata": {},
   "outputs": [
    {
     "data": {
      "text/plain": [
       "<bound method DataFrame.info of       accident_index  ...                                              SHAPE\n",
       "80338  2020522000484  ...  {\"spatialReference\": {\"wkid\": 4326}, \"x\": -2.5...\n",
       "80387  2020522000964  ...  {\"spatialReference\": {\"wkid\": 4326}, \"x\": -2.5...\n",
       "80428  2020522001482  ...  {\"spatialReference\": {\"wkid\": 4326}, \"x\": -2.5...\n",
       "80472  2020522001780  ...  {\"spatialReference\": {\"wkid\": 4326}, \"x\": -2.5...\n",
       "80599  2020522002300  ...  {\"spatialReference\": {\"wkid\": 4326}, \"x\": -2.5...\n",
       "80610  2020522002347  ...  {\"spatialReference\": {\"wkid\": 4326}, \"x\": -2.5...\n",
       "80686  2020522002660  ...  {\"spatialReference\": {\"wkid\": 4326}, \"x\": -2.5...\n",
       "80699  2020522002691  ...  {\"spatialReference\": {\"wkid\": 4326}, \"x\": -2.5...\n",
       "80737  2020522002919  ...  {\"spatialReference\": {\"wkid\": 4326}, \"x\": -2.5...\n",
       "80873  2020522003657  ...  {\"spatialReference\": {\"wkid\": 4326}, \"x\": -2.5...\n",
       "81058  2020522004424  ...  {\"spatialReference\": {\"wkid\": 4326}, \"x\": -2.5...\n",
       "81562  2020522101056  ...  {\"spatialReference\": {\"wkid\": 4326}, \"x\": -2.5...\n",
       "\n",
       "[12 rows x 37 columns]>"
      ]
     },
     "execution_count": 47,
     "metadata": {},
     "output_type": "execute_result"
    }
   ],
   "source": [
    "sedf2.info"
   ]
  },
  {
   "cell_type": "code",
   "execution_count": 44,
   "metadata": {},
   "outputs": [
    {
     "data": {
      "application/vnd.jupyter.widget-view+json": {
       "model_id": "3edc876558b4488ab5fcf25f362be489",
       "version_major": 2,
       "version_minor": 0
      },
      "text/plain": [
       "MapView(layout=Layout(height='400px', width='100%'))"
      ]
     },
     "metadata": {},
     "output_type": "display_data"
    },
    {
     "data": {
      "text/html": [
       "<div class=\"map-static-img-preview-14925d40-c6b5-4688-9736-764d634c3a46\"><img src=\"\"></img></div>"
      ],
      "text/plain": [
       "<display.HTML object>"
      ]
     },
     "metadata": {},
     "output_type": "display_data"
    },
    {
     "data": {
      "text/html": [
       "<div class=\"map-html-embed-preview-14925d40-c6b5-4688-9736-764d634c3a46\"></div>"
      ],
      "text/plain": [
       "<display.HTML object>"
      ]
     },
     "metadata": {},
     "output_type": "display_data"
    }
   ],
   "source": [
    "sedf2.spatial.plot() # Try using .loc[row_indexer,col_indexer] = value instead"
   ]
  }
 ],
 "metadata": {
  "kernelspec": {
   "display_name": "ArcGISPro",
   "language": "Python",
   "name": "python3"
  },
  "language_info": {
   "file_extension": ".py",
   "name": "python",
   "version": "3"
  }
 },
 "nbformat": 4,
 "nbformat_minor": 2
}
