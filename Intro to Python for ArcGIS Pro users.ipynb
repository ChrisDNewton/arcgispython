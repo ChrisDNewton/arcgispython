{
 "cells": [
  {
   "cell_type": "markdown",
   "metadata": {
    "slideshow": {
     "slide_type": "slide"
    }
   },
   "source": [
    "# An introduction to Python for ArcGIS Pro users\n",
    "# 🛰️🌍💻🧰🐍🛠️🌐🗺️📈 \n",
    "\n",
    "### Chris Newton - Technical instructor (GIS & data analytics)\n",
    "### Faculty of Environment and Technology, UWE Bristol\n",
    "\n",
    "##### Click right to continue"
   ]
  },
  {
   "cell_type": "markdown",
   "metadata": {
    "slideshow": {
     "slide_type": "slide"
    }
   },
   "source": [
    "# Why Python?\n",
    "\n",
    "Python is an in-demand skill for geospatial professionals.\n",
    "\n",
    "Python allows you to:\n",
    "* Automate repetitive tasks\n",
    "* Create replicable workflows\n",
    "* Create custom geoprocessing tools\n",
    "* Wrangle messy data into analysis-ready, tidy data\n",
    "* Analyse and visualise data"
   ]
  },
  {
   "cell_type": "markdown",
   "metadata": {
    "slideshow": {
     "slide_type": "slide"
    }
   },
   "source": [
    "# More than just GIS\n",
    "Python isn't just used in GIS. It's also widely used in data science, engineering, web applications, software development, etc..."
   ]
  },
  {
   "cell_type": "markdown",
   "metadata": {
    "slideshow": {
     "slide_type": "slide"
    }
   },
   "source": [
    "# = vs ==\n",
    "\n",
    "#### = is an *assignment operator*.\n",
    "#### You're telling the computer \"assign *this_value* to *that_variable*\".\n",
    "\n"
   ]
  },
  {
   "cell_type": "code",
   "execution_count": 5,
   "metadata": {},
   "outputs": [
    {
     "name": "stdout",
     "output_type": "stream",
     "text": [
      "Fred\n"
     ]
    }
   ],
   "source": [
    "#This is how you would set the variable 'my_dogs_name' to hold the string (text) value \"Fred\":\n",
    "my_dogs_name = \"Fred\"\n",
    "#Let's check by printing the variable:\n",
    "print(my_dogs_name)"
   ]
  },
  {
   "cell_type": "markdown",
   "metadata": {
    "slideshow": {
     "slide_type": "slide"
    }
   },
   "source": [
    "# = vs ==\n",
    "\n",
    "* == is an **equality operator**.\n",
    "\n",
    "* You're asking the computer \"does **this_variable** equal **that_value**?\"\n",
    "\n",
    "* It returns a **boolean value** - True or False."
   ]
  },
  {
   "cell_type": "code",
   "execution_count": 6,
   "metadata": {},
   "outputs": [
    {
     "data": {
      "text/plain": [
       "False"
      ]
     },
     "execution_count": 6,
     "metadata": {},
     "output_type": "execute_result"
    }
   ],
   "source": [
    "#Is my_dogs_name Cerberus?\n",
    "my_dogs_name == \"Cerberus\""
   ]
  },
  {
   "cell_type": "code",
   "execution_count": 7,
   "metadata": {},
   "outputs": [
    {
     "data": {
      "text/plain": [
       "True"
      ]
     },
     "execution_count": 7,
     "metadata": {},
     "output_type": "execute_result"
    }
   ],
   "source": [
    "##Is my_dogs_name Fred?\n",
    "my_dogs_name == \"Fred\""
   ]
  },
  {
   "cell_type": "markdown",
   "metadata": {
    "slideshow": {
     "slide_type": "slide"
    }
   },
   "source": [
    "# If, elif and else\n",
    "\n",
    "* We can use the results of a == to tell the computer to do different things.\n",
    "* Indentations and colons are important here."
   ]
  },
  {
   "cell_type": "code",
   "execution_count": 8,
   "metadata": {
    "slideshow": {
     "slide_type": "-"
    }
   },
   "outputs": [
    {
     "name": "stdout",
     "output_type": "stream",
     "text": [
      "Your dog's name is not Frederico or Alfredo, it's Fred! 🐕\n"
     ]
    }
   ],
   "source": [
    "if my_dogs_name == \"Frederico\":\n",
    "    print(\"Your dogs name is Frederico!\")\n",
    "elif my_dogs_name == \"Alfredo\":\n",
    "    print(\"Your dog's name is Alfredo!\")\n",
    "else:\n",
    "    print(\"Your dog's name is not Frederico or Alfredo, it's \"+ my_dogs_name + \"! 🐕\")"
   ]
  },
  {
   "cell_type": "markdown",
   "metadata": {
    "slideshow": {
     "slide_type": "slide"
    }
   },
   "source": [
    "# Lists and loops 🔁\n",
    "* Lists are encased in [square brackets].\n",
    "* They _can_ contain mixed data types (i.e. strings, floats, ints), but this isn't always a good idea for our purposes, so we won't go into that today.\n",
    "* Python uses _zero-based indexing_ - the first item in a list starts at zero. We can access items in a list by following the list name with an *index operator* (a pair of square brackets like this []), and entering an index value in the brackets, as in the example below. This can take a little getting used to, but will quickly start to make sense the more you use it.\n"
   ]
  },
  {
   "cell_type": "code",
   "execution_count": 10,
   "metadata": {},
   "outputs": [
    {
     "name": "stdout",
     "output_type": "stream",
     "text": [
      "here\n",
      "is\n",
      "a\n",
      "list\n"
     ]
    }
   ],
   "source": [
    "my_list = ['here', 'is', 'a', 'list']  # Create a list of words\n",
    "print(my_list[0])  # Position [0] is the first word in the list \n",
    "print(my_list[1])  # Position [1] is the second word in the list\n",
    "print(my_list[2])  # Position [2] is the third word in the list\n",
    "print(my_list[3])  # Position [3] is the fourth word in the list"
   ]
  },
  {
   "cell_type": "code",
   "execution_count": 11,
   "metadata": {},
   "outputs": [
    {
     "name": "stdout",
     "output_type": "stream",
     "text": [
      "1\n",
      "2\n",
      "3\n",
      "4\n"
     ]
    }
   ],
   "source": [
    "integer_list = [1, 2, 3, 4]  # Create a list of integers\n",
    "print(integer_list[0])  # Position [0] is the first number in the list \n",
    "print(integer_list[1])  # Position [1] is the second number in the list\n",
    "print(integer_list[2])  # Position [2] is the third number in the list\n",
    "print(integer_list[3])  # Position [3] is the fourth number in the list"
   ]
  },
  {
   "cell_type": "markdown",
   "metadata": {
    "slideshow": {
     "slide_type": "slide"
    }
   },
   "source": [
    "# Looping through a list with 'for' and 'in'"
   ]
  },
  {
   "cell_type": "code",
   "execution_count": 5,
   "metadata": {},
   "outputs": [
    {
     "name": "stdout",
     "output_type": "stream",
     "text": [
      "Frederico\n",
      "Alfredo\n",
      "Fred\n"
     ]
    }
   ],
   "source": [
    "name_list = ['Frederico', 'Alfredo', 'Fred']\n",
    "for name in name_list: #the word 'name' isn't important here, it can be anything, as long as use is consistent.\n",
    "    print(name)"
   ]
  },
  {
   "cell_type": "code",
   "execution_count": 6,
   "metadata": {},
   "outputs": [
    {
     "name": "stdout",
     "output_type": "stream",
     "text": [
      "10 + 5 = 15\n",
      "10 + 2 = 12\n",
      "10 + 6 = 16\n",
      "10 + 2 = 12\n",
      "10 + 7 = 17\n"
     ]
    }
   ],
   "source": [
    "number_list = [5, 2, 6, 2, 7]\n",
    "for number in number_list:\n",
    "    print(\"10 + \" + str(number) + \" = \" + str(10 + number))"
   ]
  },
  {
   "cell_type": "markdown",
   "metadata": {
    "slideshow": {
     "slide_type": "slide"
    }
   },
   "source": [
    "# Let's combine the two!"
   ]
  },
  {
   "cell_type": "code",
   "execution_count": 9,
   "metadata": {},
   "outputs": [
    {
     "name": "stdout",
     "output_type": "stream",
     "text": [
      "Your dog's name is not Frederico...\n",
      "Your dog's name is not Alfredo...\n",
      "Your dog's name is Fred!\n"
     ]
    }
   ],
   "source": [
    "name_list = ['Frederico', 'Alfredo', 'Fred']\n",
    "\n",
    "for name in name_list:\n",
    "    if name == my_dogs_name:\n",
    "        print(\"Your dog's name is \" + name + \"!\")\n",
    "    else:\n",
    "        print(\"Your dog's name is not \" + name + \"...\")"
   ]
  },
  {
   "cell_type": "markdown",
   "metadata": {
    "slideshow": {
     "slide_type": "slide"
    }
   },
   "source": [
    "# You can show Python in a markdown slide by incasing it in backticks\n",
    "##### ```python\n",
    "\n",
    "#### code goes here\n",
    "\n",
    "##### ```\n",
    "\n",
    "```python\n",
    "list = ['one', 'two', 'three']\n",
    "for item in list:\n",
    "    print(item)\n",
    "```"
   ]
  },
  {
   "cell_type": "code",
   "execution_count": 8,
   "metadata": {},
   "outputs": [
    {
     "name": "stdout",
     "output_type": "stream",
     "text": [
      "This is a code cell - if you don't set a slide type, you can create a single slide \n",
      "mixing Markdown and code.\n"
     ]
    }
   ],
   "source": [
    "print(\"This is a code cell - if you don't set a slide type, you can create a single slide \\nmixing Markdown and code.\")"
   ]
  },
  {
   "cell_type": "markdown",
   "metadata": {},
   "source": [
    "# 🦊 "
   ]
  },
  {
   "cell_type": "markdown",
   "metadata": {
    "slideshow": {
     "slide_type": "slide"
    }
   },
   "source": [
    "# Further resources\n",
    "\n",
    "[Video - Python for geographers](https://www.esri.com/training/catalog/60db46df8b20f13a5ac9db6b)"
   ]
  }
 ],
 "metadata": {
  "celltoolbar": "Slideshow",
  "kernelspec": {
   "display_name": "Python 3",
   "language": "python",
   "name": "python3"
  },
  "language_info": {
   "codemirror_mode": {
    "name": "ipython",
    "version": 3
   },
   "file_extension": ".py",
   "mimetype": "text/x-python",
   "name": "python",
   "nbconvert_exporter": "python",
   "pygments_lexer": "ipython3",
   "version": "3.6.9"
  }
 },
 "nbformat": 4,
 "nbformat_minor": 2
}
